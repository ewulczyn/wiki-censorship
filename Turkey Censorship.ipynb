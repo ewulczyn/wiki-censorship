{
 "cells": [
  {
   "cell_type": "code",
   "execution_count": null,
   "metadata": {},
   "outputs": [],
   "source": [
    "from db_utils import query_hive_ssh, execute_hive_expression, get_hive_timespan\n",
    "import pandas as pd\n",
    "import matplotlib.pyplot as plt\n",
    "import seaborn as sns\n",
    "from datetime import datetime\n",
    "% matplotlib inline\n",
    "import shutil\n",
    "import os\n",
    "import numpy as np"
   ]
  },
  {
   "cell_type": "code",
   "execution_count": null,
   "metadata": {},
   "outputs": [],
   "source": [
    "\n",
    "query = \"\"\"\n",
    "SELECT\n",
    "concat(month,'-',day,'-',year) AS date,\n",
    "page_title,\n",
    "SUM(IF (country = 'Turkey', view_count, null)) AS count,\n",
    "100*SUM(IF (country = 'Turkey', view_count, null))/SUM(view_count) AS proportion\n",
    "FROM wmf.pageview_hourly\n",
    "WHERE year = 2015\n",
    "AND month in (5, 6, 7)\n",
    "AND agent_type = 'user'\n",
    "AND project = 'tr.wikipedia'\n",
    "AND page_title in ('İnsan_penisi', 'Kadın_üreme_organları', 'Testis_torbası',  'Vajina',  '2015_Türkiye_genel_seçimleri_anketleri', '2015_Türkiye_genel_seçim_anketleri')\n",
    "GROUP BY year, month, day, page_title;\n",
    "\"\"\"\n",
    "\n",
    "d = query_hive_ssh(query, 'turkey_query.tsv', delete = False, priority = True)"
   ]
  },
  {
   "cell_type": "code",
   "execution_count": null,
   "metadata": {},
   "outputs": [],
   "source": [
    "d.head()"
   ]
  },
  {
   "cell_type": "code",
   "execution_count": null,
   "metadata": {},
   "outputs": [],
   "source": [
    "d.index = pd.to_datetime(d['date'])"
   ]
  },
  {
   "cell_type": "code",
   "execution_count": null,
   "metadata": {},
   "outputs": [],
   "source": [
    "pages = ['İnsan_penisi', 'Kadın_üreme_organları', 'Testis_torbası',  'Vajina',  '2015_Türkiye_genel_seçimleri_anketleri', '2015_Türkiye_genel_seçim_anketleri']"
   ]
  },
  {
   "cell_type": "code",
   "execution_count": null,
   "metadata": {},
   "outputs": [],
   "source": [
    "def plot_page(d, page, proportion):\n",
    "    print(page)\n",
    "    if proportion:\n",
    "        d[d['page_title'] == page]['proportion'].plot()\n",
    "    else:\n",
    "        d[d['page_title'] == page]['count'].plot()"
   ]
  },
  {
   "cell_type": "code",
   "execution_count": null,
   "metadata": {},
   "outputs": [],
   "source": [
    "plot_page(d, pages[0], False)"
   ]
  },
  {
   "cell_type": "code",
   "execution_count": null,
   "metadata": {},
   "outputs": [],
   "source": [
    "plot_page(d, pages[0], True)"
   ]
  },
  {
   "cell_type": "code",
   "execution_count": null,
   "metadata": {},
   "outputs": [],
   "source": [
    "plot_page(d, pages[1], False)"
   ]
  },
  {
   "cell_type": "code",
   "execution_count": null,
   "metadata": {},
   "outputs": [],
   "source": [
    "plot_page(d, pages[1], True)"
   ]
  },
  {
   "cell_type": "code",
   "execution_count": null,
   "metadata": {},
   "outputs": [],
   "source": [
    "plot_page(d, pages[2], False)"
   ]
  },
  {
   "cell_type": "code",
   "execution_count": null,
   "metadata": {},
   "outputs": [],
   "source": [
    "plot_page(d, pages[2], True)"
   ]
  },
  {
   "cell_type": "code",
   "execution_count": null,
   "metadata": {},
   "outputs": [],
   "source": [
    "plot_page(d, pages[3], True)"
   ]
  },
  {
   "cell_type": "code",
   "execution_count": null,
   "metadata": {},
   "outputs": [],
   "source": []
  }
 ],
 "metadata": {
  "kernelspec": {
   "display_name": "Python 3",
   "language": "python",
   "name": "python3"
  },
  "language_info": {
   "codemirror_mode": {
    "name": "ipython",
    "version": 3
   },
   "file_extension": ".py",
   "mimetype": "text/x-python",
   "name": "python",
   "nbconvert_exporter": "python",
   "pygments_lexer": "ipython3"
  }
 },
 "nbformat": 4,
 "nbformat_minor": 0
}
