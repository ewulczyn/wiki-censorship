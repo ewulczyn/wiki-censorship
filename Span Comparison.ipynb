{
 "cells": [
  {
   "cell_type": "code",
   "execution_count": null,
   "metadata": {},
   "outputs": [],
   "source": [
    "from db_utils import query_hive_ssh, execute_hive_expression, get_hive_timespan\n",
    "from span_comparison import *\n",
    "import pandas as pd\n",
    "% matplotlib inline"
   ]
  },
  {
   "cell_type": "markdown",
   "metadata": {},
   "source": [
    "# Generate Span Comparison"
   ]
  },
  {
   "cell_type": "code",
   "execution_count": null,
   "metadata": {},
   "outputs": [],
   "source": [
    "s1start = '2015-05-01'\n",
    "s1stop = '2015-06-12'\n",
    "s2start = '2015-06-12'\n",
    "s2stop = '2015-07-24'\n",
    "\n",
    "cmp = PVSpanComparison([s1start, s1stop], [s2start, s2stop], 'censorship', dry = False)"
   ]
  },
  {
   "cell_type": "code",
   "execution_count": null,
   "metadata": {},
   "outputs": [],
   "source": [
    "\"\"\"\n",
    "s1start = '2015-05-08'\n",
    "s1stop = '2015-06-08'\n",
    "s2start = '2015-06-20'\n",
    "s2stop = '2015-07-20'\n",
    "cmp = PVSpanComparison([s1start, s1stop], [s2start, s2stop], 'censorship', dry = True) \n",
    "\"\"\""
   ]
  },
  {
   "cell_type": "code",
   "execution_count": null,
   "metadata": {},
   "outputs": [],
   "source": [
    "def get_PVSpanComparison_df(pvsc):\n",
    "    \"\"\"\n",
    "    Pull a dataframe with articles that jumped\n",
    "    at least one standard deviation in view proportion\n",
    "    \"\"\"\n",
    "    query = \"\"\"\n",
    "    SELECT *,\n",
    "    (post_n_tpc / 3 - pre_n_tpc) / pre_n_tpc as clean_tpc_view_delta\n",
    "    FROM %(db)s.%(span_table)s\n",
    "    WHERE post_n_tpc > 300\n",
    "    AND pre_n_wd > 1000\n",
    "    AND (post_n_tpc / 3 - pre_n_tpc) / pre_n_tpc > 2.0\n",
    "    \"\"\"\n",
    "    df = query_hive_ssh(query % pvsc.params, 'get_PVSpanComparison_df', priority = True)\n",
    "    df.columns = [c.split('.')[1] if len(c.split('.')) == 2 else c for c in df.columns]\n",
    "    df.sort('normalized_tpc_view_proportion_delta', inplace  = True, ascending = 0)\n",
    "    return df"
   ]
  },
  {
   "cell_type": "code",
   "execution_count": null,
   "metadata": {},
   "outputs": [],
   "source": [
    "# pull reduced data from Hive into local pandas df\n",
    "df = get_PVSpanComparison_df(cmp)\n",
    "df_ctr = get_PVSpanComparison_df(cmp_ctr)"
   ]
  },
  {
   "cell_type": "markdown",
   "metadata": {},
   "source": [
    "# Investigate Top Articles per Country"
   ]
  },
  {
   "cell_type": "code",
   "execution_count": null,
   "metadata": {},
   "outputs": [],
   "source": [
    "df.sort('normalized_tpc_view_proportion_delta', inplace  = True, ascending = 0)"
   ]
  },
  {
   "cell_type": "code",
   "execution_count": null,
   "metadata": {},
   "outputs": [],
   "source": [
    "country = 'Bahrain'\n",
    "cols = ['p', 't', 'c', 'en_page_title', 'clean_tpc_view_delta', 'normalized_tpc_view_proportion_delta', 'pre_n_tpc', 'post_n_tpc',  ]\n",
    "df[df['c'] == country][cols].head(100)"
   ]
  },
  {
   "cell_type": "code",
   "execution_count": null,
   "metadata": {},
   "outputs": [],
   "source": [
    "df[]"
   ]
  },
  {
   "cell_type": "markdown",
   "metadata": {},
   "source": [
    "# Check Individual Articles\n",
    "\n",
    "Check if an article was trending up during the https transition."
   ]
  },
  {
   "cell_type": "code",
   "execution_count": null,
   "metadata": {},
   "outputs": [],
   "source": [
    "article = 'Anal_sex'"
   ]
  },
  {
   "cell_type": "code",
   "execution_count": null,
   "metadata": {},
   "outputs": [],
   "source": [
    "df[df['t'] == article][cols].head(30)"
   ]
  },
  {
   "cell_type": "code",
   "execution_count": null,
   "metadata": {},
   "outputs": [],
   "source": [
    "df_ctr[df_ctr['en_page_title'] == article][cols].head(30)"
   ]
  },
  {
   "cell_type": "markdown",
   "metadata": {},
   "source": [
    "# Save to File"
   ]
  },
  {
   "cell_type": "code",
   "execution_count": null,
   "metadata": {},
   "outputs": [],
   "source": [
    "def save_PVSpanComparison_df(df, fname):\n",
    "    df_clean = df[['p', 't', 'c', 'id', 'en_page_title', 'tpc_view_delta']]\n",
    "    df_clean.columns = ['project', 'title', 'country', 'wikidata_id', 'en_title', 'tpc_view_delta']\n",
    "    df_clean.to_csv(fname, encoding = 'utf8', sep = '\\t', index = False)"
   ]
  },
  {
   "cell_type": "code",
   "execution_count": null,
   "metadata": {},
   "outputs": [],
   "source": [
    "save_PVSpanComparison_df(df, './data/https_transition_comparison.tsv')\n",
    "save_PVSpanComparison_df(df_ctr, './data/control_comparison.tsv')"
   ]
  },
  {
   "cell_type": "code",
   "execution_count": null,
   "metadata": {},
   "outputs": [],
   "source": [
    "d_censorship = pd.read_csv('./data/https_transition_comparison.tsv', sep = '\\t', encoding = 'utf8')"
   ]
  },
  {
   "cell_type": "code",
   "execution_count": null,
   "metadata": {},
   "outputs": [],
   "source": [
    "d_censorship[d_censorship['en_title'] == 'Thor']"
   ]
  },
  {
   "cell_type": "code",
   "execution_count": null,
   "metadata": {},
   "outputs": [],
   "source": [
    "d_censorship[d_censorship['country'] == 'Iran']"
   ]
  },
  {
   "cell_type": "code",
   "execution_count": null,
   "metadata": {},
   "outputs": [],
   "source": [
    "for i in range(10):\n",
    "    s = input()\n",
    "    plt.plot([1, 2, 3, 4])\n",
    "    plt.show()\n",
    "    "
   ]
  },
  {
   "cell_type": "code",
   "execution_count": null,
   "metadata": {},
   "outputs": [],
   "source": [
    "import matplotlib.pyplot as plt\n"
   ]
  }
 ],
 "metadata": {
  "kernelspec": {
   "display_name": "Python 3",
   "language": "python",
   "name": "python3"
  },
  "language_info": {
   "codemirror_mode": {
    "name": "ipython",
    "version": 3
   },
   "file_extension": ".py",
   "mimetype": "text/x-python",
   "name": "python",
   "nbconvert_exporter": "python",
   "pygments_lexer": "ipython3"
  }
 },
 "nbformat": 4,
 "nbformat_minor": 0
}
